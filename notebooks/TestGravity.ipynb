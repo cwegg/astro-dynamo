{
 "cells": [
  {
   "cell_type": "code",
   "execution_count": null,
   "metadata": {},
   "outputs": [],
   "source": [
    "%load_ext autoreload\n",
    "%autoreload 2\n",
    "import torch\n",
    "import numpy as np\n",
    "import matplotlib.pyplot as plt\n",
    "from pydynmod.grid import Grid, ForceGrid\n",
    "from pydynmod.snap import SnapShot, ParticleType\n",
    "\n",
    "import mwtools.nemo\n",
    "import pydynmod.analysesnap \n",
    "import math\n",
    "\n",
    "%aimport -math,torch,numpy,matplotlib.pyplot,sys\n",
    "potential=None"
   ]
  },
  {
   "cell_type": "code",
   "execution_count": null,
   "metadata": {},
   "outputs": [],
   "source": [
    "fakesnap = SnapShot(positions=torch.zeros((1,3),dtype=torch.float32),\n",
    "                    velocities=torch.zeros((1,3),dtype=torch.float32),\n",
    "                    masses=torch.full((1,),0.3,dtype=torch.float32))"
   ]
  },
  {
   "cell_type": "code",
   "execution_count": null,
   "metadata": {},
   "outputs": [],
   "source": [
    "potential=None\n",
    "n=512\n",
    "nz=512\n",
    "potential=ForceGrid(n=(n,n,nz),\n",
    "                    gridedges=torch.tensor([10.,10.,10.],dtype=torch.float32),\n",
    "                    smoothing=0.1*20/n)\n",
    "_=potential.griddata(fakesnap.positions,weights=fakesnap.masses,method='cic')\n",
    "potential.grid_accelerations()"
   ]
  },
  {
   "cell_type": "code",
   "execution_count": null,
   "metadata": {},
   "outputs": [],
   "source": [
    "positions=torch.zeros((1000,3),dtype=torch.float32)\n",
    "positions[:,0]=torch.linspace(-10,10,1000)\n",
    "positions[:,1]=0 \n",
    "positions[:,2]=0\n",
    "acc=potential.get_accelerations(positions)\n",
    "plt.plot(positions[:,0].numpy(),-acc[:,0].numpy(),label='pydynmod')\n",
    "plt.plot(potential.x.numpy(),-(potential.x*fakesnap.masses/potential.x.abs()**3).numpy())\n",
    "plt.ylim(-2,2)"
   ]
  },
  {
   "cell_type": "code",
   "execution_count": null,
   "metadata": {},
   "outputs": [],
   "source": [
    "snap=SnapShot('../inputmodels/M85_0',omega=1.)\n",
    "particletype = torch.full((snap.n,),ParticleType.Star,dtype=torch.uint8)\n",
    "particletype[snap.particletype==0]=ParticleType.DarkMatter\n",
    "snap.particletype = particletype\n",
    "omega,omegaerr = pydynmod.analysesnap.patternspeed(snap.stars)\n",
    "snap.omega = torch.Tensor([omega]).type(torch.float32)\n",
    "print(snap.omega)"
   ]
  },
  {
   "cell_type": "code",
   "execution_count": null,
   "metadata": {},
   "outputs": [],
   "source": [
    "potential=None\n",
    "n=512\n",
    "nz=512\n",
    "potential=ForceGrid(n=(n,n,nz),\n",
    "                    gridedges=torch.tensor([10.,10.,10.],dtype=torch.float32),\n",
    "                    smoothing=0.5*20/n)\n",
    "_=potential.griddata(snap.positions,weights=snap.masses,method='cic')\n",
    "potential.grid_accelerations()"
   ]
  },
  {
   "cell_type": "code",
   "execution_count": null,
   "metadata": {},
   "outputs": [],
   "source": [
    "grav = mwtools.nemo.gravity_cartesian_grid(snap, potential.x,potential.y,[0.])"
   ]
  },
  {
   "cell_type": "code",
   "execution_count": null,
   "metadata": {},
   "outputs": [],
   "source": [
    "positions=torch.zeros((len(potential.x),3),dtype=torch.float32)\n",
    "positions[:,0]=grav['x']\n",
    "positions[:,1]=grav['y'][255]\n",
    "positions[:,2]=0\n",
    "acc=potential.get_accelerations(positions)"
   ]
  },
  {
   "cell_type": "code",
   "execution_count": null,
   "metadata": {},
   "outputs": [],
   "source": [
    "plt.plot(grav['x'].numpy(),grav['F'][:,255,0],label='gyrfalcON')\n",
    "plt.plot(grav['x'].numpy(),-acc[:,0].numpy(),label='pydynmod')\n",
    "plt.legend()\n",
    "plt.xlim(-5,5)\n"
   ]
  },
  {
   "cell_type": "code",
   "execution_count": null,
   "metadata": {},
   "outputs": [],
   "source": [
    "plt.plot(grav['x'].numpy(),grav['F'][:,255,0]+acc[:,0].numpy(),'.',label='pydynmod')\n",
    "plt.legend()\n",
    "plt.xlim(-2,2)"
   ]
  },
  {
   "cell_type": "code",
   "execution_count": null,
   "metadata": {},
   "outputs": [],
   "source": [
    "from mpl_toolkits.axes_grid1 import make_axes_locatable\n",
    "f,axs = plt.subplots(1,3,sharex=True,sharey=True,figsize=(12,6))\n",
    "\n",
    "ax=axs[0]\n",
    "im=ax.contourf(grav['x'],grav['y'],grav['pot'])\n",
    "ax.set_aspect('equal', 'box')\n",
    "divider = make_axes_locatable(ax)\n",
    "cax = divider.append_axes('top', size='5%', pad=0.05)\n",
    "cb = f.colorbar(im, cax=cax, orientation='horizontal')\n",
    "cb.ax.xaxis.set_ticks_position('top')\n",
    "cb.ax.xaxis.set_label_position('top')\n",
    "\n",
    "ax=axs[1]\n",
    "potslice = 0.5*(potential.pot[:,:,255]+potential.pot[:,:,255]).numpy()\n",
    "im=ax.contourf(potential.x,potential.y,potslice)\n",
    "ax.set_aspect('equal', 'box')\n",
    "divider = make_axes_locatable(ax)\n",
    "cax = divider.append_axes('top', size='5%', pad=0.05)\n",
    "cb = f.colorbar(im, cax=cax, orientation='horizontal')\n",
    "cb.ax.xaxis.set_ticks_position('top')\n",
    "cb.ax.xaxis.set_label_position('top')\n",
    "\n",
    "\n",
    "ax=axs[2]\n",
    "im=ax.contourf(potential.x,potential.y,\n",
    "               potslice-grav['pot'] - np.mean(potslice-grav['pot']),\n",
    "              cmap=plt.cm.get_cmap('coolwarm'))\n",
    "ax.set_aspect('equal', 'box')\n",
    "divider = make_axes_locatable(ax)\n",
    "cax = divider.append_axes('top', size='5%', pad=0.05)\n",
    "cb = f.colorbar(im, cax=cax, orientation='horizontal')\n",
    "cb.ax.xaxis.set_ticks_position('top')\n",
    "cb.ax.xaxis.set_label_position('top')\n",
    "\n",
    "f.tight_layout()"
   ]
  },
  {
   "cell_type": "code",
   "execution_count": null,
   "metadata": {},
   "outputs": [],
   "source": []
  }
 ],
 "metadata": {
  "kernelspec": {
   "display_name": "pytorch",
   "language": "python",
   "name": "pytorch"
  },
  "language_info": {
   "codemirror_mode": {
    "name": "ipython",
    "version": 3
   },
   "file_extension": ".py",
   "mimetype": "text/x-python",
   "name": "python",
   "nbconvert_exporter": "python",
   "pygments_lexer": "ipython3",
   "version": "3.7.3"
  }
 },
 "nbformat": 4,
 "nbformat_minor": 2
}
