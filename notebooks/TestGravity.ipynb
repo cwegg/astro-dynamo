{
 "cells": [
  {
   "cell_type": "code",
   "execution_count": null,
   "metadata": {},
   "outputs": [],
   "source": [
    "%load_ext autoreload\n",
    "%autoreload 2\n",
    "import torch\n",
    "import numpy as np\n",
    "import matplotlib.pyplot as plt\n",
    "from astro_dynamo.grid import Grid, ForceGrid\n",
    "from astro_dynamo.snap import SnapShot, ParticleType\n",
    "\n",
    "import mwtools.nemo\n",
    "import astro_dynamo.analysesnap \n",
    "import math\n",
    "\n",
    "%aimport -math,torch,numpy,matplotlib.pyplot,sys\n",
    "potential=None"
   ]
  },
  {
   "cell_type": "markdown",
   "metadata": {},
   "source": [
    "First just insert a single particle at (0,0,0) and test the force against the analytic expectation"
   ]
  },
  {
   "cell_type": "code",
   "execution_count": null,
   "metadata": {},
   "outputs": [],
   "source": [
    "fakesnap = SnapShot(positions=torch.zeros((1,3),dtype=torch.float32),\n",
    "                    velocities=torch.zeros((1,3),dtype=torch.float32),\n",
    "                    masses=torch.full((1,),0.3,dtype=torch.float32))"
   ]
  },
  {
   "cell_type": "code",
   "execution_count": null,
   "metadata": {},
   "outputs": [],
   "source": [
    "potential=None\n",
    "n=512\n",
    "nz=512\n",
    "potential=ForceGrid(n=(n,n,nz),\n",
    "                    gridedges=torch.tensor([10.,10.,10.],dtype=torch.float32),\n",
    "                    smoothing=0.2*20/n)\n",
    "_=potential.griddata(fakesnap.positions,weights=fakesnap.masses,method='cic')\n",
    "potential.grid_accelerations()"
   ]
  },
  {
   "cell_type": "markdown",
   "metadata": {},
   "source": [
    "Errors look small, apart from near the center, which seems to just the expected errors due to smoothing and gridding"
   ]
  },
  {
   "cell_type": "code",
   "execution_count": null,
   "metadata": {},
   "outputs": [],
   "source": [
    "positions=torch.zeros((1000,3),dtype=torch.float32)\n",
    "positions[:,0]=torch.linspace(-10,10,1000)\n",
    "positions[:,1]=0 \n",
    "positions[:,2]=0\n",
    "acc=potential.get_accelerations(positions)\n",
    "\n",
    "f,ax = plt.subplots(2,2,sharex='col')\n",
    "ax[0,0].plot(positions[:,0].numpy(),-acc[:,0].numpy(),label='astro-dynamo')\n",
    "ax[0,0].plot(potential.x.numpy(),-(potential.x*fakesnap.masses/potential.x.abs()**3).numpy(),label='Analytic',\n",
    "           linestyle='--')\n",
    "ax[0,0].set_ylim(-2,2)\n",
    "ax[0,0].set_ylabel('Force')\n",
    "ax[0,0].set_xlabel('Position')\n",
    "ax[0,0].legend()\n",
    "ax[0,1].set_xlim(-5,5)\n",
    "\n",
    "ax[1,0].plot(positions[:,0].numpy(),(acc[:,0].numpy()-(positions[:,0]*fakesnap.masses/positions[:,0].abs()**3).numpy())/acc[:,0].numpy(),label='Analytic')\n",
    "ax[1,0].set_ylim(-0.05,0.05)\n",
    "ax[1,0].set_ylabel('Fractional difference in force')\n",
    "\n",
    "\n",
    "ax[0,1].plot(positions[:,0].numpy(),-acc[:,0].numpy(),label='astro-dynamo')\n",
    "ax[0,1].plot(potential.x.numpy(),-(potential.x*fakesnap.masses/potential.x.abs()**3).numpy(),label='Analytic',\n",
    "           linestyle='--')\n",
    "#ax[0].set_ylim(-2,2)\n",
    "ax[1,1].set_xlabel('Position')\n",
    "ax[0,1].set_xlim(-0.2,0.2)\n",
    "\n",
    "ax[1,1].plot(positions[:,0].numpy(),(acc[:,0].numpy()-(positions[:,0]*fakesnap.masses/positions[:,0].abs()**3).numpy())/acc[:,0].numpy(),label='Analytic')\n",
    "ax[1,1].set_ylim(-1,1)\n"
   ]
  },
  {
   "cell_type": "markdown",
   "metadata": {},
   "source": [
    "Now try with a reasonable snapshot"
   ]
  },
  {
   "cell_type": "code",
   "execution_count": null,
   "metadata": {},
   "outputs": [],
   "source": [
    "snap=SnapShot('../inputmodels/M85_0.gz',omega=1.)\n",
    "particletype = torch.full((snap.n,),ParticleType.Star,dtype=torch.uint8)\n",
    "particletype[snap.particletype==0]=ParticleType.DarkMatter\n",
    "snap.particletype = particletype\n",
    "omega,omegaerr = astro_dynamo.analysesnap.patternspeed(snap.stars)\n",
    "snap.omega = torch.Tensor([omega]).type(torch.float32)\n",
    "print(f'Snapshot has pattern speed {snap.omega}')"
   ]
  },
  {
   "cell_type": "code",
   "execution_count": null,
   "metadata": {},
   "outputs": [],
   "source": [
    "potential=None\n",
    "n=512\n",
    "nz=512\n",
    "potential=ForceGrid(n=(n,n,nz),\n",
    "                    gridedges=torch.tensor([10.,10.,10.],dtype=torch.float32),\n",
    "                    smoothing=0.2*20/n)\n",
    "_=potential.griddata(snap.positions,weights=snap.masses,method='cic')\n",
    "potential.grid_accelerations()"
   ]
  },
  {
   "cell_type": "code",
   "execution_count": null,
   "metadata": {},
   "outputs": [],
   "source": [
    "grav = mwtools.nemo.gravity_cartesian_grid(snap.as_numpy_array(), potential.x,potential.y,[0.])"
   ]
  },
  {
   "cell_type": "code",
   "execution_count": null,
   "metadata": {},
   "outputs": [],
   "source": [
    "positions=torch.zeros((len(potential.x),3),dtype=torch.float32)\n",
    "positions[:,0]=grav['x']\n",
    "positions[:,1]=grav['y'][255]\n",
    "positions[:,2]=0\n",
    "acc=potential.get_accelerations(positions)"
   ]
  },
  {
   "cell_type": "markdown",
   "metadata": {},
   "source": [
    "Things look reasonable - force differences seem small"
   ]
  },
  {
   "cell_type": "code",
   "execution_count": null,
   "metadata": {},
   "outputs": [],
   "source": [
    "f,ax = plt.subplots(2,1,sharex='col')\n",
    "ax[0].plot(grav['x'].numpy(),grav['F'][:,255,0],label='gyrfalcON')\n",
    "ax[0].plot(grav['x'].numpy(),-acc[:,0].numpy(),label='astro-dynamo')\n",
    "ax[0].legend()\n",
    "ax[0].set_xlim(-2,2)\n",
    "ax[0].set_ylabel('Force')\n",
    "\n",
    "ax[1].plot(grav['x'].numpy(),grav['F'][:,255,0]+acc[:,0].numpy(),'.',label='Difference')\n",
    "ax[1].set_ylabel('Fractional\\ndifference\\nin force')\n",
    "ax[1].set_xlabel('Position')"
   ]
  },
  {
   "cell_type": "markdown",
   "metadata": {},
   "source": [
    "Finally compare an entire potential slice - differences look pretty small. There's the expected issues at the edge because the grid is finite and truncates things. And differences at the center that are probably due to the different smoothing and finite grid."
   ]
  },
  {
   "cell_type": "code",
   "execution_count": null,
   "metadata": {},
   "outputs": [],
   "source": [
    "from mpl_toolkits.axes_grid1 import make_axes_locatable\n",
    "f,axs = plt.subplots(1,3,sharex=True,sharey=True,figsize=(16,8))\n",
    "\n",
    "ax=axs[0]\n",
    "im=ax.contourf(grav['x'],grav['y'],grav['pot'])\n",
    "ax.set_aspect('equal', 'box')\n",
    "divider = make_axes_locatable(ax)\n",
    "cax = divider.append_axes('top', size='5%', pad=0.05)\n",
    "cb = f.colorbar(im, cax=cax, orientation='horizontal')\n",
    "cb.ax.xaxis.set_ticks_position('top')\n",
    "cb.ax.xaxis.set_label_position('top')\n",
    "cax.set_title('GyrFalcon')\n",
    "\n",
    "ax=axs[1]\n",
    "potslice = 0.5*(potential.pot[:,:,255]+potential.pot[:,:,255]).numpy()\n",
    "im=ax.contourf(potential.x,potential.y,potslice)\n",
    "ax.set_aspect('equal', 'box')\n",
    "divider = make_axes_locatable(ax)\n",
    "cax = divider.append_axes('top', size='5%', pad=0.05)\n",
    "cb = f.colorbar(im, cax=cax, orientation='horizontal')\n",
    "cb.ax.xaxis.set_ticks_position('top')\n",
    "cb.ax.xaxis.set_label_position('top')\n",
    "cax.set_title('astro-dynamo')\n",
    "\n",
    "ax=axs[2]\n",
    "diff = potslice-grav['pot'] - np.mean(potslice-grav['pot'])\n",
    "im=ax.contourf(potential.x,potential.y,diff,\n",
    "               vmin=-np.max(np.abs(diff)),vmax=np.max(np.abs(diff)),\n",
    "              cmap=plt.cm.get_cmap('coolwarm'))\n",
    "ax.set_aspect('equal', 'box')\n",
    "divider = make_axes_locatable(ax)\n",
    "cax = divider.append_axes('top', size='5%', pad=0.05)\n",
    "cb = f.colorbar(im, cax=cax, orientation='horizontal')\n",
    "cb.ax.xaxis.set_ticks_position('top')\n",
    "cb.ax.xaxis.set_label_position('top')\n",
    "cax.set_title('Difference')\n",
    "\n",
    "f.tight_layout()"
   ]
  },
  {
   "cell_type": "code",
   "execution_count": null,
   "metadata": {},
   "outputs": [],
   "source": [
    "np.max(np.abs(diff))"
   ]
  },
  {
   "cell_type": "code",
   "execution_count": null,
   "metadata": {},
   "outputs": [],
   "source": []
  }
 ],
 "metadata": {
  "kernelspec": {
   "display_name": "Environment (conda_pytorch_p36)",
   "language": "python",
   "name": "conda_pytorch_p36"
  },
  "language_info": {
   "codemirror_mode": {
    "name": "ipython",
    "version": 3
   },
   "file_extension": ".py",
   "mimetype": "text/x-python",
   "name": "python",
   "nbconvert_exporter": "python",
   "pygments_lexer": "ipython3",
   "version": "3.6.5"
  }
 },
 "nbformat": 4,
 "nbformat_minor": 2
}
