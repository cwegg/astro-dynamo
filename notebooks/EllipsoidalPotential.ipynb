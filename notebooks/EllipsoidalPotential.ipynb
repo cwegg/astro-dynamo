{
 "cells": [
  {
   "cell_type": "code",
   "execution_count": null,
   "metadata": {},
   "outputs": [],
   "source": [
    "%load_ext autoreload\n",
    "%autoreload 2\n",
    "\n",
    "import torch\n",
    "import matplotlib.pyplot as plt\n",
    "import scipy, scipy.optimize\n",
    "import numpy as np\n",
    "import astro_dynamo\n",
    "from astro_dynamo.snap import ParticleType\n",
    "%aimport  astro_dynamo.axisymmetric_potentials\n"
   ]
  },
  {
   "cell_type": "markdown",
   "metadata": {},
   "source": [
    "Check we reproduce the same answer as galpy for some random potential"
   ]
  },
  {
   "cell_type": "code",
   "execution_count": null,
   "metadata": {},
   "outputs": [],
   "source": [
    "import galpy.potential\n",
    "q=0.5\n",
    "galpy_pot = galpy.potential.TwoPowerTriaxialPotential(c=q,ro=1,vo=1)\n",
    "galpy_pot.turn_physical_off()\n",
    "pot = astro_dynamo.axisymmetric_potentials.SpheroidalPotential(lambda m: galpy_pot._amp*galpy_pot._mdens(m),q=q)"
   ]
  },
  {
   "cell_type": "code",
   "execution_count": null,
   "metadata": {},
   "outputs": [],
   "source": [
    "x=np.linspace(0,10,100)\n",
    "plt.semilogy(x,list(map(lambda x: -galpy_pot.Rforce(x,1),x)),'r',label='galpy FR')\n",
    "plt.semilogy(x,-pot.f_r_cyl(x,np.array([1.])),'--k')\n",
    "plt.semilogy(x,list(map(lambda x: -galpy_pot.zforce(x,1),x)),'y',label='galpy Fz')\n",
    "plt.semilogy(x,-pot.f_z(x,np.array([1.])),'--k',label='astro-dynamo')\n",
    "plt.legend()\n",
    "plt.ylabel('Force')\n",
    "plt.xlabel('R')"
   ]
  },
  {
   "cell_type": "code",
   "execution_count": null,
   "metadata": {},
   "outputs": [],
   "source": [
    "x=np.linspace(0,10,100)\n",
    "plt.plot(x,list(map(lambda x: galpy_pot.vcirc(x,0),x)),'r',label='galpy FR')\n",
    "plt.plot(x,torch.sqrt(pot.vc2(x,np.array([0.]))),'--k',label='astro-dynamo')\n",
    "plt.ylabel('Vc')\n",
    "plt.xlabel('R')"
   ]
  },
  {
   "cell_type": "markdown",
   "metadata": {},
   "source": [
    "Try replacing the dark matter particles in a snapshot by an analytic profile"
   ]
  },
  {
   "cell_type": "code",
   "execution_count": null,
   "metadata": {},
   "outputs": [],
   "source": [
    "snap=astro_dynamo.snap.SnapShot('../inputmodels/M85_0.gz',omega=1.,\n",
    "              particle_type_mapping={0:ParticleType.DarkMatter,1:ParticleType.Star})"
   ]
  },
  {
   "cell_type": "code",
   "execution_count": null,
   "metadata": {},
   "outputs": [],
   "source": [
    "# Let's see what the profile acutually looks like in the model\n",
    "colwidth=7\n",
    "fig, axes = plt.subplots(nrows=2, ncols=1, figsize=(colwidth, colwidth*1.6))\n",
    "rbins=np.arange(1,20,2)\n",
    "q=[]\n",
    "qerr=[]\n",
    "for ir in range(len(rbins)-1):\n",
    "    i=((snap.dm.r > rbins[ir]) & (snap.dm.r <= rbins[ir+1]))\n",
    "    st=snap.dm.z[i]/snap.dm.r[i]\n",
    "    mintheta=np.sin(30./180*np.pi)\n",
    "    H,edges=np.histogram(st**2,np.linspace(mintheta**2,1,100),weights=snap.dm.masses[i])\n",
    "    x=0.5*(edges[:-1]+edges[1:])\n",
    "    ctedges=1-np.sqrt(edges)\n",
    "    vol = ctedges[:-1]-ctedges[1:]\n",
    "    rho=H/vol\n",
    "    def f(x,a,b):\n",
    "        return a*(b*x + 1)\n",
    "    popt,pcov=scipy.optimize.curve_fit(f,x,rho,p0=[-0.8,1.0],sigma=0.1*rho)\n",
    "    perr=np.sqrt(np.diag(pcov))\n",
    "    q.append(1/np.sqrt(1-popt[1]))\n",
    "    qerr.append(q[-1]*0.5*perr[1]/popt[1])\n",
    "q=np.array(q)\n",
    "qerr=np.array(qerr)\n",
    "\n",
    "r=0.5*(rbins[:-1]+rbins[1:])\n",
    "axes[0].errorbar(r,q,yerr=qerr)\n",
    "axes[0].set_ylabel(r'$q_\\rho$')\n",
    "axes[0].set_xlabel(r'$r$ [kpc]')\n",
    "i=(r>2) & (r<20)\n",
    "qfix = np.mean(q[i])\n",
    "axes[0].plot([2,20],[qfix,qfix])\n",
    "print('q={:.3f}'.format(qfix))\n",
    "\n",
    "\n",
    "m = np.sqrt((snap.dm.rcyl)**2 + (snap.dm.z/qfix)**2)\n",
    "(H,medge) = np.histogram(m,np.linspace(0.1,20,50),weights=snap.dm.masses)\n",
    "volcorr=np.arcsinh(np.sqrt(1/qfix**2 - 1))/np.sqrt(1/qfix**2 - 1)\n",
    "volcorr=qfix\n",
    "print(volcorr)\n",
    "vol=4*np.pi*(medge[1:]**3 - medge[:-1]**3)/3*volcorr\n",
    "mmid=0.5*(medge[1:] + medge[:-1])\n",
    "axes[1].plot(mmid,H/vol)\n",
    "axes[1].set_yscale('log')\n",
    "def ein(m,rhor0,m0,alpha):\n",
    "    rho0 = rhor0 / (np.exp(-(2 / alpha) * ((8.2 / m0) ** alpha - 1)))\n",
    "    return rho0 * np.exp(-(2 / alpha) * ((m / m0) ** alpha - 1))\n",
    "rho=H/vol\n",
    "popt,pcov=scipy.optimize.curve_fit(ein,mmid,rho,p0=[1e7,8.0,0.7],sigma=0.01*rho)\n",
    "print(popt)\n",
    "print(np.sqrt(np.diag(pcov)))\n",
    "axes[1].plot(mmid,ein(mmid,*popt))\n",
    "axes[1].set_xlabel(r'$m [{\\rm kpc}]$')\n",
    "axes[1].set_ylabel(r'$\\rho [M_\\odot\\,{\\rm kpc}^{-3}]$')\n",
    "truths=np.hstack((popt,qfix))"
   ]
  },
  {
   "cell_type": "code",
   "execution_count": null,
   "metadata": {},
   "outputs": [],
   "source": [
    "pot = astro_dynamo.axisymmetric_potentials.SpheroidalPotential(lambda m: ein(m,*popt),q=qfix)\n",
    "pot.f_r_cyl(torch.tensor([[10.,10.],[5.,5.]]),torch.tensor([[10.,5.],[10.,5.]]))"
   ]
  },
  {
   "cell_type": "code",
   "execution_count": null,
   "metadata": {},
   "outputs": [],
   "source": [
    "import mwtools.nemo"
   ]
  },
  {
   "cell_type": "code",
   "execution_count": null,
   "metadata": {},
   "outputs": [],
   "source": [
    "x=np.linspace(0)\n",
    "grav = mwtools.nemo.gravity_cartesian_grid(snap.as_numpy_array(), potential.x,potential.y,[0.])"
   ]
  }
 ],
 "metadata": {
  "kernelspec": {
   "display_name": "Environment (conda_pytorch_p36)",
   "language": "python",
   "name": "conda_pytorch_p36"
  },
  "language_info": {
   "codemirror_mode": {
    "name": "ipython",
    "version": 3
   },
   "file_extension": ".py",
   "mimetype": "text/x-python",
   "name": "python",
   "nbconvert_exporter": "python",
   "pygments_lexer": "ipython3",
   "version": "3.6.5"
  }
 },
 "nbformat": 4,
 "nbformat_minor": 2
}
