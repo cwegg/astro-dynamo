{
 "cells": [
  {
   "cell_type": "code",
   "execution_count": null,
   "metadata": {},
   "outputs": [],
   "source": [
    "%load_ext autoreload\n",
    "%autoreload 2\n",
    "\n",
    "import torch\n",
    "import matplotlib.pyplot as plt\n",
    "import scipy, scipy.optimize\n",
    "import numpy as np\n",
    "import astro_dynamo\n",
    "from astro_dynamo.snap import ParticleType\n",
    "import mwtools.nemo\n",
    "import galpy.potential\n",
    "\n",
    "%aimport  astro_dynamo.analytic_potentials\n"
   ]
  },
  {
   "cell_type": "markdown",
   "metadata": {},
   "source": [
    "Check we reproduce the same answer as galpy for some random potential"
   ]
  },
  {
   "cell_type": "code",
   "execution_count": null,
   "metadata": {},
   "outputs": [],
   "source": [
    "q=0.5\n",
    "\n",
    "#Getting units correct is painful. with ro=1 vo=1 and turn_physical_off then everything should be just G=1\n",
    "galpy_pot = galpy.potential.TwoPowerTriaxialPotential(c=q,ro=1,vo=1)\n",
    "galpy_pot.turn_physical_off()\n",
    "pot = astro_dynamo.analytic_potentials.SpheroidalPotential(lambda m: galpy_pot._amp*galpy_pot._mdens(m),q=q)"
   ]
  },
  {
   "cell_type": "code",
   "execution_count": null,
   "metadata": {},
   "outputs": [],
   "source": [
    "x=np.linspace(0,10,100)\n",
    "plt.semilogy(x,list(map(lambda x: -galpy_pot.Rforce(x,1),x)),'r',label='galpy FR')\n",
    "plt.semilogy(x,-pot.f_r_cyl(x,np.array([1.])),'--k')\n",
    "plt.semilogy(x,list(map(lambda x: -galpy_pot.zforce(x,1),x)),'y',label='galpy Fz')\n",
    "plt.semilogy(x,-pot.f_z(x,np.array([1.])),'--k',label='astro-dynamo')\n",
    "plt.legend()\n",
    "plt.ylabel('Force')\n",
    "plt.xlabel('R')"
   ]
  },
  {
   "cell_type": "code",
   "execution_count": null,
   "metadata": {},
   "outputs": [],
   "source": [
    "x=np.linspace(0,10,100)\n",
    "plt.plot(x,list(map(lambda x: galpy_pot.vcirc(x,0),x)),'r',label='galpy FR')\n",
    "plt.plot(x,torch.sqrt(pot.vc2(x,np.array([0.]))),'--k',label='astro-dynamo')\n",
    "plt.ylabel('$V_c$')\n",
    "plt.xlabel('$R$')"
   ]
  },
  {
   "cell_type": "markdown",
   "metadata": {},
   "source": [
    "Try replacing the dark matter particles in a snapshot by an analytic profile"
   ]
  },
  {
   "cell_type": "code",
   "execution_count": null,
   "metadata": {},
   "outputs": [],
   "source": [
    "snap=astro_dynamo.snap.SnapShot('../inputmodels/M85_0.gz',\n",
    "              particle_type_mapping={0:ParticleType.DarkMatter,1:ParticleType.Star})"
   ]
  },
  {
   "cell_type": "code",
   "execution_count": null,
   "metadata": {},
   "outputs": [],
   "source": [
    "q,qerr = astro_dynamo.analytic_potentials.fit_q_to_snapshot(snap,plot=True,r_bins=50)\n",
    "print(f'q={q:.3f}+-{qerr:.3f}')"
   ]
  },
  {
   "cell_type": "markdown",
   "metadata": {},
   "source": [
    "Define and test a spheriodal potential based on this fit"
   ]
  },
  {
   "cell_type": "code",
   "execution_count": null,
   "metadata": {},
   "outputs": [],
   "source": [
    "def ein(m,rhor0,m0,alpha):\n",
    "    rho0 = rhor0 / (np.exp(-(2 / alpha) * ((8.2 / m0) ** alpha - 1)))\n",
    "    return rho0 * np.exp(-(2 / alpha) * ((m / m0) ** alpha - 1))\n",
    "\n",
    "pot = astro_dynamo.analytic_potentials.fit_potential_to_snap(snap.dm,ein,init_parms=[1e-3,8.0,0.7],plot=True)"
   ]
  },
  {
   "cell_type": "code",
   "execution_count": null,
   "metadata": {},
   "outputs": [],
   "source": [
    "r,dm_vc2 = mwtools.nemo.rotationcurve(snap.dm.as_numpy_array(),rrange=(0, 40))\n",
    "r,stellar_vc2 = mwtools.nemo.rotationcurve(snap.stars.as_numpy_array(),rrange=(0, 40))\n",
    "\n",
    "i = (np.abs(snap.dm.positions[:,0]) < 10) & \\\n",
    "    (np.abs(snap.dm.positions[:,1]) < 10) & \\\n",
    "    (np.abs(snap.dm.positions[:,2]) < 10)\n",
    "r,dm_vc2_trunc = mwtools.nemo.rotationcurve(snap.dm[i].as_numpy_array(),rrange=(0, 40))\n",
    "\n",
    "i = (np.abs(snap.stars.positions[:,0]) < 10) & \\\n",
    "    (np.abs(snap.stars.positions[:,1]) < 10) & \\\n",
    "    (np.abs(snap.stars.positions[:,2]) < 10)\n",
    "r,stellar_vc2_trunc = mwtools.nemo.rotationcurve(snap.stars[i].as_numpy_array(),rrange=(0, 40))\n"
   ]
  },
  {
   "cell_type": "code",
   "execution_count": null,
   "metadata": {},
   "outputs": [],
   "source": [
    "f,ax = plt.subplots(1,1)\n",
    "ax.plot(r,np.sqrt(dm_vc2),label = 'DM Particles')\n",
    "ax.plot(r,np.sqrt(stellar_vc2),label = 'Stellar Particles')\n",
    "ax.plot(r,np.sqrt(dm_vc2_trunc),label = 'DM Particles in 10kpc box')\n",
    "x=np.linspace(0.,40,100)\n",
    "ax.plot(x,np.sqrt(pot.vc2(x,torch.tensor(0.0,dtype=torch.float64))),label = 'Einasto Fit')\n",
    "\n",
    "r=r.copy()\n",
    "ax.plot(r,np.sqrt(stellar_vc2+pot.vc2(r,torch.tensor(0.0,dtype=torch.float64)).numpy()),label = 'Total Vc: Einasto Fit')\n",
    "ax.plot(r,np.sqrt(stellar_vc2+dm_vc2),label = 'Total Vc: Particles')\n",
    "ax.set_xlim((0,20))\n",
    "ax.set_ylabel('$V_c$')\n",
    "ax.set_xlabel('$R$')\n",
    "\n",
    "ax.legend(loc='center left', bbox_to_anchor=(1, 0.5))\n",
    "\n"
   ]
  },
  {
   "cell_type": "markdown",
   "metadata": {},
   "source": [
    "Test the gridding of the potential"
   ]
  },
  {
   "cell_type": "code",
   "execution_count": null,
   "metadata": {},
   "outputs": [],
   "source": [
    "pot.grid_acc()\n",
    "\n",
    "maxi=1000\n",
    "positions = snap.stars.positions\n",
    "r_cyl = snap.stars.rcyl\n",
    "z = snap.stars.positions[..., 2]\n",
    "\n",
    "f_r_cyl,f_z = pot.get_accelerations_cyl(positions[:maxi,:]).t()\n",
    "\n",
    "f,ax = plt.subplots(1,2, figsize = (8,4), sharey = 'row')\n",
    "\n",
    "ax[0].plot(r_cyl[:maxi],np.abs((pot.f_r_cyl(r_cyl[:maxi],z[:maxi])-f_r_cyl)/f_r_cyl),'.',label='$F_r$')\n",
    "ax[0].plot(r_cyl[:maxi],np.abs((pot.f_z(r_cyl[:maxi],z[:maxi])-f_z)/f_z),'.',label='$F_z$')\n",
    "ax[0].semilogy()\n",
    "ax[0].legend()\n",
    "ax[0].set_ylabel('Fractional Difference')\n",
    "ax[0].set_xlabel('R')\n",
    "\n",
    "ax[1].plot(z[:maxi],np.abs((pot.f_r_cyl(r_cyl[:maxi],z[:maxi])-f_r_cyl)/f_r_cyl),'.',label='$F_r$')\n",
    "ax[1].plot(z[:maxi],np.abs((pot.f_z(r_cyl[:maxi],z[:maxi])-f_z)/f_z),'.',label='$F_z$')\n",
    "ax[1].semilogy()\n",
    "ax[1].legend()\n",
    "ax[1].set_xlabel('z')\n"
   ]
  },
  {
   "cell_type": "code",
   "execution_count": null,
   "metadata": {},
   "outputs": [],
   "source": [
    "maxi=1000\n",
    "positions = snap.stars.positions\n",
    "r_cyl = snap.stars.rcyl\n",
    "z = snap.stars.positions[..., 2]\n",
    "\n",
    "acc = pot.get_accelerations(positions)\n",
    "f_r_cyl = -torch.sqrt( acc[..., 0]**2 + acc[..., 1]**2 )\n",
    "f_z = acc[..., 2]\n",
    "f_r_cyl=f_r_cyl[:maxi]\n",
    "f_z=f_z[:maxi]\n",
    "\n",
    "f,ax = plt.subplots(1,2, figsize = (8,4), sharey = 'row')\n",
    "\n",
    "ax[0].plot(r_cyl[:maxi],np.abs((pot.f_r_cyl(r_cyl[:maxi],z[:maxi])-f_r_cyl)/f_r_cyl),'.',label='$F_r$')\n",
    "ax[0].plot(r_cyl[:maxi],np.abs((pot.f_z(r_cyl[:maxi],z[:maxi])-f_z)/f_z),'.',label='$F_z$')\n",
    "ax[0].semilogy()\n",
    "ax[0].legend()\n",
    "ax[0].set_ylabel('Fractional Difference')\n",
    "ax[0].set_xlabel('R')\n",
    "\n",
    "ax[1].plot(z[:maxi],np.abs((pot.f_r_cyl(r_cyl[:maxi],z[:maxi])-f_r_cyl)/f_r_cyl),'.',label='$F_r$')\n",
    "ax[1].plot(z[:maxi],np.abs((pot.f_z(r_cyl[:maxi],z[:maxi])-f_z)/f_z),'.',label='$F_z$')\n",
    "ax[1].semilogy()\n",
    "ax[1].legend()\n",
    "ax[1].set_xlabel('z')"
   ]
  },
  {
   "cell_type": "code",
   "execution_count": null,
   "metadata": {},
   "outputs": [],
   "source": [
    "gpu_pot = pot.to('cuda')\n",
    "acc = gpu_pot.get_accelerations(positions)\n",
    "f_r_cyl = -torch.sqrt( acc[..., 0]**2 + acc[..., 1]**2 )\n",
    "f_z = acc[..., 2]\n",
    "f_r_cyl=f_r_cyl[:maxi]\n",
    "f_z=f_z[:maxi]\n",
    "\n",
    "f,ax = plt.subplots(1,2, figsize = (8,4), sharey = 'row')\n",
    "\n",
    "ax[0].plot(r_cyl[:maxi],np.abs((pot.f_r_cyl(r_cyl[:maxi],z[:maxi])-f_r_cyl)/f_r_cyl),'.',label='$F_r$')\n",
    "ax[0].plot(r_cyl[:maxi],np.abs((pot.f_z(r_cyl[:maxi],z[:maxi])-f_z)/f_z),'.',label='$F_z$')\n",
    "ax[0].semilogy()\n",
    "ax[0].legend()\n",
    "ax[0].set_ylabel('Fractional Difference')\n",
    "ax[0].set_xlabel('R')\n",
    "\n",
    "ax[1].plot(z[:maxi],np.abs((pot.f_r_cyl(r_cyl[:maxi],z[:maxi])-f_r_cyl)/f_r_cyl),'.',label='$F_r$')\n",
    "ax[1].plot(z[:maxi],np.abs((pot.f_z(r_cyl[:maxi],z[:maxi])-f_z)/f_z),'.',label='$F_z$')\n",
    "ax[1].semilogy()\n",
    "ax[1].legend()\n",
    "ax[1].set_xlabel('z')"
   ]
  },
  {
   "cell_type": "code",
   "execution_count": null,
   "metadata": {},
   "outputs": [],
   "source": []
  }
 ],
 "metadata": {
  "kernelspec": {
   "display_name": "Environment (conda_pytorch_p36)",
   "language": "python",
   "name": "conda_pytorch_p36"
  },
  "language_info": {
   "codemirror_mode": {
    "name": "ipython",
    "version": 3
   },
   "file_extension": ".py",
   "mimetype": "text/x-python",
   "name": "python",
   "nbconvert_exporter": "python",
   "pygments_lexer": "ipython3",
   "version": "3.6.5"
  }
 },
 "nbformat": 4,
 "nbformat_minor": 2
}
