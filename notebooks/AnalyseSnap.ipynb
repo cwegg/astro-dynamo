{
 "cells": [
  {
   "cell_type": "code",
   "execution_count": null,
   "metadata": {},
   "outputs": [],
   "source": [
    "%load_ext autoreload\n",
    "import torch\n",
    "import numpy as np\n",
    "import matplotlib.pyplot as plt\n",
    "print(torch.__version__)\n",
    "import sys\n",
    "sys.path.append(\"..\")\n",
    "from astro_dynamo.snap import SnapShot, ParticleType\n",
    "import astro_dynamo.analysesnap\n",
    "\n",
    "import math"
   ]
  },
  {
   "cell_type": "markdown",
   "metadata": {},
   "source": [
    "Here we collect some usage of routines to analyse a snapshot and show their usage"
   ]
  },
  {
   "cell_type": "code",
   "execution_count": null,
   "metadata": {},
   "outputs": [],
   "source": [
    "snap=SnapShot('../inputmodels/M85_0.gz',omega=1.)\n",
    "particletype = torch.full((snap.n,),ParticleType.Star,dtype=torch.uint8)\n",
    "particletype[snap.particletype==0]=ParticleType.DarkMatter\n",
    "snap.particletype = particletype"
   ]
  },
  {
   "cell_type": "code",
   "execution_count": null,
   "metadata": {},
   "outputs": [],
   "source": [
    "barlens = astro_dynamo.analysesnap.barlen(snap.stars,phaselim=10,fractional_m2=0.2)"
   ]
  },
  {
   "cell_type": "code",
   "execution_count": null,
   "metadata": {},
   "outputs": [],
   "source": [
    "f,ax = plt.subplots(1,1)\n",
    "ax.hexbin(snap.stars.x,snap.stars.y,C=snap.stars.masses,bins='log',\n",
    "           extent=(-10,10,-10,10),reduce_C_function=np.sum)\n",
    "colors=('r','b')\n",
    "labels=['phase','m2 limit']\n",
    "for label,color,barlen in zip(labels,colors,barlens):\n",
    "    ax.errorbar(x=0,y=0,yerr=0,xerr=barlen,color=color,\n",
    "                capthick=2,capsize=4,elinewidth=2,label=label,alpha=0.3)\n",
    "plt.legend()\n",
    "ax.set_aspect('equal', 'box')\n",
    "ax.set(xlim=(-10, 10), ylim=(-10, 10))"
   ]
  },
  {
   "cell_type": "code",
   "execution_count": null,
   "metadata": {},
   "outputs": [],
   "source": [
    "f,ax = plt.subplots(1,1)\n",
    "omega,omegaerr = astro_dynamo.analysesnap.patternspeed(snap.stars,plot=ax)"
   ]
  }
 ],
 "metadata": {
  "kernelspec": {
   "display_name": "Environment (conda_pytorch_p36)",
   "language": "python",
   "name": "conda_pytorch_p36"
  },
  "language_info": {
   "codemirror_mode": {
    "name": "ipython",
    "version": 3
   },
   "file_extension": ".py",
   "mimetype": "text/x-python",
   "name": "python",
   "nbconvert_exporter": "python",
   "pygments_lexer": "ipython3",
   "version": "3.6.5"
  }
 },
 "nbformat": 4,
 "nbformat_minor": 2
}
