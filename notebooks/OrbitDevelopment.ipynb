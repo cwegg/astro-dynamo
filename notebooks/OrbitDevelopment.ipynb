{
 "cells": [
  {
   "cell_type": "code",
   "execution_count": null,
   "metadata": {},
   "outputs": [],
   "source": [
    "%load_ext autoreload\n",
    "%autoreload 2\n",
    "import torch\n",
    "import numpy as np\n",
    "import matplotlib.pyplot as plt\n",
    "print(torch.__version__)\n",
    "from pydynmod.grid import Grid, ForceGrid\n",
    "from pydynmod.snap import SnapShot, ParticleType\n",
    "from tqdm import tqdm_notebook\n",
    "#import mwtools\n",
    "#import mwtools.nemo\n",
    "\n",
    "import pydynmod.analysesnap \n",
    "import math\n",
    "%aimport -math,torch,numpy,matplotlib.pyplot,sys\n",
    "potential=None"
   ]
  },
  {
   "cell_type": "code",
   "execution_count": null,
   "metadata": {},
   "outputs": [],
   "source": [
    "snap=SnapShot('../inputmodels/M85_0',omega=1.)\n",
    "particletype = torch.full((snap.n,),ParticleType.Star,dtype=torch.uint8)\n",
    "particletype[snap.particletype==0]=ParticleType.DarkMatter\n",
    "snap.particletype = particletype\n",
    "omega,omegaerr = pydynmod.analysesnap.patternspeed(snap.stars)\n",
    "snap.omega = torch.Tensor([omega]).type(torch.float32)\n",
    "print(snap.omega)"
   ]
  },
  {
   "cell_type": "code",
   "execution_count": null,
   "metadata": {},
   "outputs": [],
   "source": [
    "potential=None\n",
    "n=512\n",
    "nz=512\n",
    "potential=ForceGrid(n=(n,n,nz),\n",
    "                    gridedges=torch.tensor([10.,10.,10.],dtype=torch.float32),\n",
    "                    smoothing=0.5*20/n)\n",
    "_=potential.griddata(snap.positions,weights=snap.masses,method='cic')\n",
    "potential.grid_accelerations()"
   ]
  },
  {
   "cell_type": "code",
   "execution_count": null,
   "metadata": {},
   "outputs": [],
   "source": [
    "gpusnap=snap.to('cuda')\n",
    "gpusnap.positions = gpusnap.corotating_frame(3.,gpusnap.omega,gpusnap.positions)\n",
    "plt.ion()\n",
    "\n",
    "f,ax = plt.subplots(1,2,sharex=True,sharey=True)\n",
    "ax[0].hexbin(gpusnap.stars.x.cpu(),gpusnap.stars.y.cpu(),C=gpusnap.stars.masses.cpu(),bins='log',\n",
    "           extent=(-10,10,-10,10),reduce_C_function=np.sum)\n",
    "ax[1].hexbin(gpusnap.stars.x.cpu(),gpusnap.stars.z.cpu(),C=gpusnap.stars.masses.cpu(),bins='log',\n",
    "           extent=(-10,10,-10,10),reduce_C_function=np.sum)\n",
    "ax[0].set_aspect('equal', 'box')\n",
    "ax[0].set(xlim=(-10, 10), ylim=(-10, 10))\n",
    "ax[1].set_aspect('equal', 'box')\n",
    "ax[1].set(xlim=(-10, 10), ylim=(-10, 10))\n"
   ]
  },
  {
   "cell_type": "code",
   "execution_count": null,
   "metadata": {},
   "outputs": [],
   "source": [
    "device='cuda'\n",
    "gpusnap=snap.to(device)\n",
    "gpupotential=potential.to(device)\n",
    "#gpusnap.omega=torch.zeros_like(gpusnap.omega)\n",
    "print(f'Using pattern speed {gpusnap.omega[0]:.4f}')\n",
    "\n",
    "plotmax=10.\n",
    "tvec = torch.linspace(0.,100,101,device=device)\n",
    "plt.ioff()\n",
    "for i,time in tqdm_notebook(enumerate(tvec),total=len(tvec)):\n",
    "    verbose=False\n",
    "    #gpusnap.integrate(time=time,potential=gpupotential,verbose=verbose)\n",
    "    gpusnap.stars.leapfrog_steps(potential=gpupotential, steps=16)\n",
    "    f,axs = plt.subplots(1,2,sharex=True,sharey=True)\n",
    "    x=gpusnap.stars.x.cpu()\n",
    "    y=gpusnap.stars.y.cpu()\n",
    "    z=gpusnap.stars.z.cpu()\n",
    "    m=gpusnap.stars.masses.cpu()\n",
    "    axs[0].hexbin(x,y,C=m,bins='log',\n",
    "               extent=(-plotmax,plotmax,-plotmax,plotmax),reduce_C_function=np.sum,\n",
    "                 vmin=1e-6,vmax=1e-2)\n",
    "    axs[1].hexbin(x,z,C=m,bins='log',\n",
    "               extent=(-plotmax,plotmax,-plotmax,plotmax),reduce_C_function=np.sum,\n",
    "                 vmin=1e-6,vmax=1e-2)\n",
    "    for ax in axs:\n",
    "        ax.set_aspect('equal', 'box')\n",
    "        ax.set(xlim=(-plotmax, plotmax), ylim=(-plotmax, plotmax))\n",
    "    f.savefig(f'fixvelrot_frame{i:04}.png')\n",
    "    plt.close(f)\n",
    "plt.ion()"
   ]
  },
  {
   "cell_type": "code",
   "execution_count": null,
   "metadata": {},
   "outputs": [],
   "source": [
    "import copy\n",
    "device='cpu'\n",
    "maxt=200\n",
    "nt=101\n",
    "nparticles=100\n",
    "plt.ion()\n",
    "smallsnap = copy.deepcopy(snap[(snap.r>7) & (snap.r<8)][0:nparticles]).to(device)\n",
    "tvec = torch.linspace(0.,maxt,nt,device=device)\n",
    "positions = torch.zeros((nt,nparticles,3),device=device)\n",
    "velocities = torch.zeros((nt,nparticles,3),device=device)\n",
    "dt = torch.zeros((nt,nparticles),device=device)\n",
    "particle_times = torch.zeros((nt,nparticles),device=device)\n",
    "\n",
    "for i,time in enumerate(tvec):\n",
    "    if i % 100 == 1:\n",
    "        print(time)\n",
    "        verbose=True\n",
    "    else:\n",
    "        verbose=False\n",
    "    #smallsnap.integrate(time=time,potential=potential,verbose=verbose)\n",
    "    time=smallsnap.leapfrog_steps(potential=potential, steps=10, return_time=True)\n",
    "    positions[i,:,:] = smallsnap.positions\n",
    "    velocities[i,:,:] = smallsnap.velocities\n",
    "    dt[i,:] = smallsnap.dt\n",
    "    particle_times[i,:]+=time\n",
    "    if i<99:\n",
    "        particle_times[i+1,:]=particle_times[i,:]\n",
    "positions=positions.cpu()\n",
    "velocities=velocities.cpu()\n",
    "dt=dt.cpu()"
   ]
  },
  {
   "cell_type": "code",
   "execution_count": null,
   "metadata": {},
   "outputs": [],
   "source": [
    "smallsnap.dt"
   ]
  },
  {
   "cell_type": "code",
   "execution_count": null,
   "metadata": {},
   "outputs": [],
   "source": [
    "plt.hist(positions[0,:,:].norm(dim=-1),alpha=0.5,label='Inital')\n",
    "plt.hist(positions[16,:,:].norm(dim=-1),alpha=0.5,label='Final')\n",
    "plt.legend()"
   ]
  },
  {
   "cell_type": "code",
   "execution_count": null,
   "metadata": {},
   "outputs": [],
   "source": [
    "print(velocities[:maxt,idx])\n",
    "print(positions[:maxt,idx])"
   ]
  },
  {
   "cell_type": "code",
   "execution_count": null,
   "metadata": {},
   "outputs": [],
   "source": [
    "idx=24\n",
    "maxt=-1\n",
    "\n",
    "f,ax = plt.subplots(2,2)\n",
    "positions=positions.cpu()\n",
    "velocities=velocities.cpu()\n",
    "tvec=tvec.cpu()\n",
    "ax[0,0].plot(positions[:maxt,idx,0].numpy(),positions[:maxt,idx,1].numpy(),'-')\n",
    "ax[0,0].plot(positions[0,idx,0].numpy(),positions[0,idx,1].numpy(),'o')\n",
    "ax[0,0].plot(0,0,'o')\n",
    "ax[0,0].set_xlabel('x')\n",
    "ax[0,0].set_ylabel('y')\n",
    "ax[0,0].set_aspect('equal', 'box')\n",
    "\n",
    "ax[0,1].plot(positions[:maxt,idx,0].numpy(),positions[:maxt,idx,2].numpy(),'-')\n",
    "ax[0,1].plot(positions[0,idx,0].numpy(),positions[0,idx,2].numpy(),'o')\n",
    "ax[0,1].plot(0,0,'o')\n",
    "\n",
    "ax[0,1].set_xlabel('x')\n",
    "ax[0,1].set_ylabel('z')\n",
    "ax[0,1].set_aspect('equal', 'box')\n",
    "\n",
    "ax[1,0].plot( np.sqrt(positions[:maxt,idx,0]**2 + positions[:maxt,idx,1]**2).numpy(),\n",
    "             positions[:maxt,idx,2].numpy(),'-')\n",
    "ax[1,0].plot( np.sqrt(positions[0,idx,0]**2 + positions[0,idx,1]**2).numpy(),\n",
    "             positions[0,idx,2].numpy(),'o')\n",
    "\n",
    "ax[1,0].set_xlabel('R')\n",
    "ax[1,0].set_ylabel('z')\n",
    "ax[1,0].set_aspect('equal', 'box')\n",
    "\n",
    "ax[1,1].plot(particle_times[:maxt,idx].numpy(),positions[:maxt,idx,2].numpy(),'-')\n",
    "ax[1,1].plot(particle_times[:maxt,idx].numpy(),velocities[:maxt,idx,2].numpy(),'-')\n",
    "ax[1,1].set_xlabel('r')\n",
    "ax[1,1].set_ylabel('$r$ and $v_r$')\n",
    "f.tight_layout()"
   ]
  },
  {
   "cell_type": "code",
   "execution_count": null,
   "metadata": {},
   "outputs": [],
   "source": [
    "plt.plot(particle_times[:maxt,1].numpy())"
   ]
  },
  {
   "cell_type": "code",
   "execution_count": null,
   "metadata": {},
   "outputs": [],
   "source": [
    "idx=47\n",
    "f,ax = plt.subplots(2,2)\n",
    "\n",
    "ax[0,0].plot(positions[:,idx,0].numpy(),positions[:,idx,1].numpy())\n",
    "ax[0,0].set_xlabel('x')\n",
    "ax[0,0].set_ylabel('y')\n",
    "\n",
    "ax[0,1].plot(positions[:,idx,0].numpy(),positions[:,idx,2].numpy())\n",
    "ax[0,1].set_xlabel('x')\n",
    "ax[0,1].set_ylabel('z')\n",
    "\n",
    "ax[1,0].plot( np.sqrt(positions[:,idx,0]**2 + positions[:,idx,1]**2).numpy(),positions[:,idx,2].numpy())\n",
    "ax[1,0].set_xlabel('R')\n",
    "ax[1,0].set_ylabel('z')\n",
    "\n",
    "ax[1,1].plot(tvec.numpy(),positions[:,idx,0].numpy())\n",
    "ax[1,1].plot(tvec.numpy(),velocities[:,idx,0].numpy())\n",
    "ax[1,1].set_xlabel('r')\n",
    "ax[1,1].set_ylabel('$r$ and $v_r$')\n",
    "f.tight_layout()"
   ]
  },
  {
   "cell_type": "code",
   "execution_count": null,
   "metadata": {},
   "outputs": [],
   "source": [
    "import math\n",
    "def circular_velocity(potential,rvec=torch.linspace(0,10,100),thetavec=torch.linspace(0,math.pi,60)):\n",
    "    r,theta=torch.meshgrid(rvec,thetavec)\n",
    "    x,y,z=r*torch.sin(theta),r*torch.cos(theta),torch.zeros_like(r)\n",
    "    posvcirc=torch.stack((x.flatten(),y.flatten(),z.flatten()),dim=0).t()\n",
    "    accvcirc=potential.get_accelerations(posvcirc)\n",
    "    accvcirc=accvcirc.view(r.shape+(3,))\n",
    "    fr = (accvcirc[...,0]*x + accvcirc[...,1]*y + accvcirc[...,2]*z)/r\n",
    "    vcirc = (fr.mean(dim=1)*rvec).sqrt()\n",
    "    return vcirc"
   ]
  },
  {
   "cell_type": "code",
   "execution_count": null,
   "metadata": {},
   "outputs": [],
   "source": [
    "dmpotential=ForceGrid(n=(128,128,128),\n",
    "                    gridedges=torch.tensor([10.,10.,10.],dtype=torch.float32),\n",
    "                    smoothing=0.3*20/256)\n",
    "_=dmpotential.griddata(snap.dm.positions,weights=snap.dm.masses,method='cic')\n",
    "dmpotential.grid_accelerations()\n",
    "stellarpotential=ForceGrid(n=(128,128,128),\n",
    "                    gridedges=torch.tensor([10.,10.,10.],dtype=torch.float32),\n",
    "                    smoothing=0.3*20/256)\n",
    "_=stellarpotential.griddata(snap.stars.positions,weights=snap.stars.masses,method='cic')\n",
    "stellarpotential.grid_accelerations()"
   ]
  },
  {
   "cell_type": "code",
   "execution_count": null,
   "metadata": {},
   "outputs": [],
   "source": [
    "rbins = np.linspace(0,10,100)\n",
    "H,edges = np.histogram(snap.dm.r,rbins,weights=snap.dm.masses)\n",
    "vol=4*np.pi/3*(edges[1:]**3-edges[:-1]**3)\n",
    "mid=0.5*(edges[1:]+edges[:-1])\n",
    "plt.loglog(mid,H/vol)\n",
    "H,edges = np.histogram(snap.stars.r,rbins,weights=snap.stars.masses)\n",
    "vol=4*np.pi/3*(edges[1:]**3-edges[:-1]**3)\n",
    "mid=0.5*(edges[1:]+edges[:-1])\n",
    "plt.loglog(mid,H/vol)"
   ]
  },
  {
   "cell_type": "code",
   "execution_count": null,
   "metadata": {},
   "outputs": [],
   "source": [
    "rvec=torch.linspace(0,10,100)\n",
    "plt.plot(rvec,circular_velocity(potential,rvec))\n",
    "plt.plot(rvec,circular_velocity(dmpotential,rvec))\n",
    "plt.plot(rvec,circular_velocity(stellarpotential,rvec))\n",
    "plt.ylim([0,2.5])"
   ]
  },
  {
   "cell_type": "code",
   "execution_count": null,
   "metadata": {},
   "outputs": [],
   "source": [
    "plt.hexbin(snap.stars.x,snap.stars.z,C=snap.stars.masses,\n",
    "           bins='log',reduce_C_function=np.sum,extent=(-10,10,-10,10))"
   ]
  },
  {
   "cell_type": "code",
   "execution_count": null,
   "metadata": {},
   "outputs": [],
   "source": [
    "plt.hexbin(snap.dm.x,snap.dm.z,C=snap.dm.masses,\n",
    "           bins='log',reduce_C_function=np.sum,extent=(-10,10,-10,10))"
   ]
  },
  {
   "cell_type": "code",
   "execution_count": null,
   "metadata": {},
   "outputs": [],
   "source": [
    "%%timeit\n",
    "acc=grid.get_acc(positions)"
   ]
  },
  {
   "cell_type": "code",
   "execution_count": null,
   "metadata": {},
   "outputs": [],
   "source": [
    "testpos=torch.tensor([[0.,0.,0.]],dtype=torch.float32)\n",
    "grid=ForceGrid(n=(256,256,256),gridedges=torch.tensor([10.,10.,10.],dtype=torch.float32),smoothing=0.3*20/256)\n",
    "_=grid.griddata(testpos,method='cic')\n",
    "grid.grid_acc()\n",
    "grid.get_acc(torch.tensor([[-9.9,0.,0.]],dtype=torch.float32))"
   ]
  },
  {
   "cell_type": "code",
   "execution_count": null,
   "metadata": {},
   "outputs": [],
   "source": [
    "plt.imshow(torch.log(rho.sum(2).type(torch.float)).transpose(0,1))\n"
   ]
  },
  {
   "cell_type": "code",
   "execution_count": null,
   "metadata": {},
   "outputs": [],
   "source": [
    "f,ax = plt.subplots(1,2)\n",
    "ax[0].imshow(pot[:,:,128].log())\n",
    "ax[1].imshow(rho[:,:,128].log())"
   ]
  }
 ],
 "metadata": {
  "kernelspec": {
   "display_name": "pytorch",
   "language": "python",
   "name": "pytorch"
  },
  "language_info": {
   "codemirror_mode": {
    "name": "ipython",
    "version": 3
   },
   "file_extension": ".py",
   "mimetype": "text/x-python",
   "name": "python",
   "nbconvert_exporter": "python",
   "pygments_lexer": "ipython3",
   "version": "3.7.3"
  }
 },
 "nbformat": 4,
 "nbformat_minor": 2
}
