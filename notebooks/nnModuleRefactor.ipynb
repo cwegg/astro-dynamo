{
 "cells": [
  {
   "cell_type": "code",
   "execution_count": null,
   "metadata": {},
   "outputs": [],
   "source": [
    "%load_ext autoreload\n",
    "%autoreload 2\n",
    "\n",
    "import torch\n",
    "import torch.nn as nn\n",
    "\n",
    "from astro_dynamo.grid import Grid, ForceGrid\n",
    "from astro_dynamo.snap import SnapShot\n",
    "import astro_dynamo.analysesnap\n",
    "import astro_dynamo.snap\n",
    "import astro_dynamo.analytic_potentials\n",
    "import astro_dynamo.target\n",
    "import matplotlib.pyplot as plt\n",
    "import numpy as np\n",
    "import math\n",
    "from tqdm.notebook import tqdm\n"
   ]
  },
  {
   "cell_type": "code",
   "execution_count": null,
   "metadata": {},
   "outputs": [],
   "source": [
    "stars, dm = astro_dynamo.snap.read_nemo_snapshot('../input_model_construction/outM80')\n",
    "stars = astro_dynamo.snap.symmetrize_snap(stars)\n",
    "astro_dynamo.analysesnap.align_bar(stars)\n",
    "omega, omegaerr = astro_dynamo.analysesnap.patternspeed(stars)\n",
    "stars.omega = torch.Tensor([omega]).type(torch.float32)\n",
    "print(stars.omega)"
   ]
  },
  {
   "cell_type": "code",
   "execution_count": null,
   "metadata": {},
   "outputs": [],
   "source": [
    "def einasto(m,rhor0,m0,alpha):\n",
    "    m = torch.as_tensor(m)\n",
    "    rhor0, m0, alpha = map(lambda var : torch.as_tensor(var,dtype=m.dtype,device=m.device), (rhor0, m0, alpha))\n",
    "    rho0 = rhor0 / (torch.exp(-(2 / alpha) * ((8.2 / m0) ** alpha - 1)))\n",
    "    return rho0 * torch.exp(-(2 / alpha) * ((m / m0) ** alpha - 1))\n",
    "\n",
    "dm_pot = astro_dynamo.analytic_potentials.fit_potential_to_snap(dm,einasto,init_parms=[1e-3,8.0,0.7],plot=True)\n",
    "dm_pot_gpu = dm_pot.to('cuda')\n",
    "dm_pot_gpu.grid_accelerations()"
   ]
  },
  {
   "cell_type": "code",
   "execution_count": null,
   "metadata": {},
   "outputs": [],
   "source": [
    "n=256\n",
    "nz=256\n",
    "star_pot=ForceGrid(n=(n,n,nz),\n",
    "                    grid_edges=torch.tensor([10.,10.,2.5],dtype=torch.float32),\n",
    "                    smoothing=0.2*20/n)\n",
    "_=star_pot.grid_data(stars.positions,weights=stars.masses.detach(),method='cic')\n",
    "star_pot.grid_accelerations()\n",
    "star_pot_gpu=star_pot.to('cuda')"
   ]
  },
  {
   "cell_type": "code",
   "execution_count": null,
   "metadata": {},
   "outputs": [],
   "source": [
    "class SurfaceDensityTarget(nn.Module):\n",
    "    def __init__(self, r_range=(0, 10), r_bins=50):\n",
    "        super(SurfaceDensityTarget, self).__init__()\n",
    "        self.dr = (r_range[1] - r_range[0]) / r_bins\n",
    "        self.r_min = r_range[0]\n",
    "        self.r_bins = r_bins\n",
    "        redge = self.r_min + torch.arange(self.r_bins+1)*self.dr\n",
    "        self.register_buffer('area',math.pi * (redge[1:] ** 2 - redge[:-1] ** 2))\n",
    "                    \n",
    "    def forward(self,snap):\n",
    "        r_cyl = (snap.positions[:,0]**2 + snap.positions[:,1]**2).sqrt()\n",
    "        i = ((r_cyl - self.r_min) / self.dr).floor().type(torch.long)\n",
    "        gd = (i >= 0) & (i < self.r_bins)\n",
    "        mass_in_bin = torch.sparse.FloatTensor(i[gd].unsqueeze(0), snap.masses[gd], size=(self.r_bins,)).to_dense()\n",
    "        surface_density = mass_in_bin / self.area\n",
    "        return surface_density\n",
    "    \n",
    "    def extra_repr(self):\n",
    "        return f'r_min={self.r_min}, r_max={self.r_min+self.dr*self.r_bins}, r_bins={self.r_bins}'\n",
    "    \n",
    "    @property\n",
    "    def rmid(self):\n",
    "        return self.r_min+self.dr/2 + self.dr*torch.arange(self.r_bins,device=self.area.device,dtype=self.area.dtype)\n",
    "    \n",
    "    def evalulate_function(self,surface_density):\n",
    "        return surface_density(self.rmid)"
   ]
  },
  {
   "cell_type": "code",
   "execution_count": null,
   "metadata": {},
   "outputs": [],
   "source": [
    "class Model(nn.Module):\n",
    "    def __init__(self, snap, potentials, targets, self_gravity_update=0.2):\n",
    "        super(Model, self).__init__()\n",
    "        self.snap = snap\n",
    "        self.targets = nn.ModuleList(targets)\n",
    "        self.potentials = nn.ModuleList(potentials)\n",
    "        self.self_gravity_update = self_gravity_update\n",
    "        \n",
    "    def forward(self):\n",
    "        return [target(self.snap) for target in self.targets]\n",
    "    \n",
    "    def integrate(self,steps=256):\n",
    "        self.snap.leapfrog_steps(potentials=self.potentials, steps=steps)\n",
    "        if self.self_gravity_update is not None:\n",
    "            self.potentials[0].grid_data(self.snap.positions,self.snap.masses.detach(),\n",
    "                                         fractional_update=self.self_gravity_update)\n",
    "\n",
    "target = SurfaceDensityTarget(r_range=(4.,9.),r_bins=50)\n",
    "model = Model(stars,[star_pot_gpu,dm_pot_gpu],[target]).to('cuda')"
   ]
  },
  {
   "cell_type": "code",
   "execution_count": null,
   "metadata": {},
   "outputs": [],
   "source": [
    "fiducial_r,dr = 4.,0.1\n",
    "fiducial_sig = SurfaceDensityTarget(r_range=(fiducial_r-dr,fiducial_r+dr),r_bins=1).to('cuda')(stars).item()\n",
    "surface_density_func=lambda x: fiducial_sig*torch.exp(-(x-fiducial_r)/2.4)\n",
    "target_surface_density = target.evalulate_function(surface_density_func)"
   ]
  },
  {
   "cell_type": "code",
   "execution_count": null,
   "metadata": {},
   "outputs": [],
   "source": [
    "def plot_radialprofile(ax,model,target,vmin=1e-5,vmax=1):\n",
    "    device = model.snap.masses.device\n",
    "    surface_density_full = SurfaceDensityTarget().to(device)\n",
    "    ax.semilogy(surface_density_full.rmid.cpu(),surface_density_full(model.snap).detach().cpu(),label='Model')\n",
    "    ax.semilogy(model.targets[0].rmid.cpu(),target.cpu(),label='Target')\n",
    "    ax.set_ylim(vmin,vmax)\n",
    "    ax.set_xlabel('r')\n",
    "    ax.set_ylabel('$\\Sigma$')\n",
    "    ax.legend()\n",
    "\n",
    "def plot_snap_projections(axs,snap,plotmax=10.,vmin=1e-5,vmax=1e-2,particle_plot_i=None):\n",
    "    x=snap.x.cpu()\n",
    "    y=snap.y.cpu()\n",
    "    z=snap.z.cpu()\n",
    "    m=snap.masses.detach().cpu()\n",
    "    projections = ((x,y),(x,z),(y,z))\n",
    "    projection_labels = (('x','y'),('x','z'),('y','z'))\n",
    "\n",
    "    for ax,projection,projection_label in zip(axs,projections,projection_labels):\n",
    "        ax.hexbin(projection[0],projection[1],C=m,bins='log',\n",
    "                   extent=(-plotmax,plotmax,-plotmax,plotmax),reduce_C_function=np.sum,\n",
    "                     vmin=1e-6,vmax=1e-2,cmap=plt.cm.get_cmap('nipy_spectral'))\n",
    "        ax.set_xlabel(projection_label[0])\n",
    "        ax.set_ylabel(projection_label[1])\n",
    "        if particle_plot_i is not None:\n",
    "            ax.plot(projection[0][particle_plot_i],projection[1][particle_plot_i],'ko',markersize=4)\n",
    "        ax.set_xlim(-plotmax,plotmax)\n",
    "        ax.set_ylim(-plotmax,plotmax)\n",
    "\n",
    "def plot_fit_step(model,step,prefix='fit_step',particle_plot_i=None):\n",
    "    f,axs = plt.subplots(2,2,figsize=(9,9))\n",
    "    plot_snap_projections((axs[0,0],axs[1,0],axs[0,1]),model.snap,\n",
    "                          particle_plot_i=particle_plot_i)\n",
    "    plot_radialprofile(axs[1,1],model,target_surface_density)\n",
    "    f.tight_layout()\n",
    "    f.savefig(f'plots/{prefix}_{step:05}.png',dpi=150)\n",
    "    f.show()\n",
    "    plt.close(f)\n",
    "\n",
    "particle_plot_i=((model.snap.rcyl>3) & (model.snap.rcyl<5)).nonzero()[0:7]   \n",
    "plot_fit_step(model,0,particle_plot_i=particle_plot_i)"
   ]
  },
  {
   "cell_type": "code",
   "execution_count": null,
   "metadata": {},
   "outputs": [],
   "source": [
    "plt.hist(stars.logmasses.cpu().detach())\n",
    "plt.yscale('log')"
   ]
  },
  {
   "cell_type": "code",
   "execution_count": null,
   "metadata": {},
   "outputs": [],
   "source": [
    "model"
   ]
  },
  {
   "cell_type": "code",
   "execution_count": null,
   "metadata": {},
   "outputs": [],
   "source": [
    "optimizer = torch.optim.SGD(model.parameters(), lr=2e4, momentum=0.7, nesterov=True)\n",
    "epochs=100\n",
    "lossvec = torch.zeros((epochs,))\n",
    "model.integrate(steps=800*8)\n",
    "\n",
    "for epoch in tqdm(range(100)):\n",
    "    optimizer.zero_grad()   # zero the gradient buffers\n",
    "    loss = ((target_surface_density - model()[0])**2/target_surface_density).sum()\n",
    "    print(f'loss {loss.item()}')\n",
    "    loss.backward()\n",
    "    optimizer.step()    # Does the update\n",
    "    model.integrate()\n",
    "    lossvec[epoch]=loss.detach()\n",
    "    if epoch % 5 == 0:\n",
    "        plot_fit_step(model,epoch,prefix='refactor',particle_plot_i=particle_plot_i)\n",
    "    if epoch % 10 == 9:\n",
    "        print('Recomputing Potential')\n",
    "        old_accelerations = model.snap.get_accelerations(model.potentials,model.snap.positions)\n",
    "        old_vc=torch.sum(-old_accelerations*model.snap.positions,dim=-1).sqrt()\n",
    "        model.potentials[0].grid_accelerations()\n",
    "        new_accelerations = model.snap.get_accelerations(model.potentials,model.snap.positions)\n",
    "        new_vc=torch.sum(-new_accelerations*model.snap.positions,dim=-1).sqrt()\n",
    "        gd = torch.isfinite(old_vc) & torch.isfinite(new_vc)\n",
    "        model.snap.velocities[gd,:]*=(new_vc/old_vc)[gd,None]\n",
    "        \n",
    "        #snap_gpu.resample([star_pot_gpu,dm_pot_gpu],verbose=verbose)\n"
   ]
  },
  {
   "cell_type": "code",
   "execution_count": null,
   "metadata": {},
   "outputs": [],
   "source": [
    "potenial_updates=np.arange(0,100,5)"
   ]
  },
  {
   "cell_type": "code",
   "execution_count": null,
   "metadata": {},
   "outputs": [],
   "source": [
    "plt.semilogy(lossvec.cpu().numpy())\n",
    "i=np.array(potenial_updates)\n",
    "plt.semilogy(i,lossvec.cpu().numpy()[i],'o',label='Potential Update')\n",
    "plt.legend()\n",
    "plt.ylabel('Loss')\n",
    "plt.xlabel('Epoch')\n",
    "plt.savefig(f'plots/{prefix}loss.png')"
   ]
  },
  {
   "cell_type": "code",
   "execution_count": null,
   "metadata": {},
   "outputs": [],
   "source": [
    "for var,val in model.potentials[0].named_parameters():\n",
    "    print(f'{var}: {val}')\n",
    "    \n",
    "for var,val in model.potentials[0].named_buffers():\n",
    "    print(f'{var}: {val}')"
   ]
  },
  {
   "cell_type": "code",
   "execution_count": null,
   "metadata": {},
   "outputs": [],
   "source": []
  }
 ],
 "metadata": {
  "kernelspec": {
   "display_name": "Environment (conda_pytorch_p36)",
   "language": "python",
   "name": "conda_pytorch_p36"
  },
  "language_info": {
   "codemirror_mode": {
    "name": "ipython",
    "version": 3
   },
   "file_extension": ".py",
   "mimetype": "text/x-python",
   "name": "python",
   "nbconvert_exporter": "python",
   "pygments_lexer": "ipython3",
   "version": "3.6.5"
  }
 },
 "nbformat": 4,
 "nbformat_minor": 2
}
