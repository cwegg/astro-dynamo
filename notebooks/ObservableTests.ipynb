{
 "cells": [
  {
   "cell_type": "code",
   "execution_count": null,
   "metadata": {},
   "outputs": [],
   "source": [
    "%load_ext autoreload\n",
    "%autoreload 2\n",
    "import torch\n",
    "import numpy as np\n",
    "import matplotlib.pyplot as plt\n",
    "print(torch.__version__)\n",
    "from pydynmod.grid import Grid, ForceGrid\n",
    "from pydynmod.snap import SnapShot, ParticleType\n",
    "import pydynmod.target\n",
    "import pydynmod.analysesnap \n",
    "import math\n",
    "from tqdm import tqdm_notebook \n",
    "import torch.nn.functional as F \n",
    "\n",
    "%aimport -math,torch,numpy,matplotlib.pyplot,sys"
   ]
  },
  {
   "cell_type": "markdown",
   "metadata": {},
   "source": [
    "Load our input N-body model and compute its pattern speed"
   ]
  },
  {
   "cell_type": "code",
   "execution_count": null,
   "metadata": {},
   "outputs": [],
   "source": [
    "snap=SnapShot('../inputmodels/M85_0',omega=1.)\n",
    "particletype = torch.full((snap.n,),ParticleType.Star,dtype=torch.uint8)\n",
    "particletype[snap.particletype==0]=ParticleType.DarkMatter\n",
    "snap.particletype = particletype\n",
    "omega,omegaerr = pydynmod.analysesnap.patternspeed(snap.stars)\n",
    "snap.omega = torch.Tensor([omega]).type(torch.float32)\n",
    "print(snap.omega)"
   ]
  },
  {
   "cell_type": "markdown",
   "metadata": {},
   "source": [
    "Compute the potential of the N-body model"
   ]
  },
  {
   "cell_type": "code",
   "execution_count": null,
   "metadata": {},
   "outputs": [],
   "source": [
    "try:\n",
    "    del potential\n",
    "except NameError:\n",
    "    pass\n",
    "n=512\n",
    "nz=512\n",
    "potential=ForceGrid(n=(n,n,nz),\n",
    "                    gridedges=torch.tensor([10.,10.,10.],dtype=torch.float32),\n",
    "                    smoothing=0.5*20/n)\n",
    "_=potential.griddata(snap.positions,weights=snap.masses,method='cic')\n",
    "potential.grid_accelerations()"
   ]
  },
  {
   "cell_type": "markdown",
   "metadata": {},
   "source": [
    "Setup our targets which we wish to optimise"
   ]
  },
  {
   "cell_type": "code",
   "execution_count": null,
   "metadata": {},
   "outputs": [],
   "source": [
    "device='cuda'\n",
    "gpusnap=snap.to(device)\n",
    "\n",
    "full_radial_profile=pydynmod.target.RadialProfile(device='cuda')\n",
    "\n",
    "fiducial_r = 4.\n",
    "fiducial_sig=full_radial_profile.interpolate_surface_density(gpusnap.stars,fiducial_r)\n",
    "\n",
    "surface_density=lambda x: fiducial_sig*torch.exp(-(x-fiducial_r)/2.4)\n",
    "target = pydynmod.target.RadialProfile(rrange=(fiducial_r,9),\n",
    "                                       surface_density=surface_density,device='cuda')\n"
   ]
  },
  {
   "cell_type": "code",
   "execution_count": null,
   "metadata": {},
   "outputs": [],
   "source": [
    "def plot_radialprofile(ax,full_radial_profile,target,snap,vmin=1e-5,vmax=1):\n",
    "    surface_density_full = full_radial_profile.observe(snap).cpu().numpy()\n",
    "    ax.semilogy(full_radial_profile.rmid.cpu().numpy(),surface_density_full,label='Inital')\n",
    "    ax.semilogy(target.rmid.cpu().numpy(),target.target.cpu().numpy(),label='Target')\n",
    "    ax.semilogy(target.rmid.cpu().numpy(),target.observe(snap).detach().cpu().numpy(),\n",
    "            'r',label='Snapshot')\n",
    "    ax.set_ylim(vmin,vmax)\n",
    "    ax.set_xlabel('r')\n",
    "    ax.set_ylabel('$\\Sigma$')\n",
    "    ax.legend()\n",
    "\n",
    "def plot_snap_projections(axs,snap,plotmax=10.,vmin=1e-6,vmax=1e-2):\n",
    "    x=snap.stars.x.cpu()\n",
    "    y=snap.stars.y.cpu()\n",
    "    z=snap.stars.z.cpu()\n",
    "    m=gpusnap.stars.masses.cpu()\n",
    "    projections = ((x,y),(x,z),(y,z))\n",
    "    projection_labels = (('x','y'),('x','z'),('y','z'))\n",
    "\n",
    "    for ax,projection,projection_label in zip(axs,projections,projection_labels):\n",
    "        ax.hexbin(projection[0],projection[1],C=m,bins='log',\n",
    "                   extent=(-plotmax,plotmax,-plotmax,plotmax),reduce_C_function=np.sum,\n",
    "                     vmin=1e-6,vmax=1e-2)\n",
    "        ax.set_xlabel(projection_label[0])\n",
    "        ax.set_ylabel(projection_label[1])\n",
    "\n",
    "def plot_fit_step(snap,step,prefix='fit_step'):\n",
    "    f,axs = plt.subplots(2,2,figsize=(9,9))\n",
    "    plot_snap_projections((axs[0,0],axs[1,0],axs[0,1]),gpusnap.stars)\n",
    "    plot_radialprofile(axs[1,1],full_radial_profile,target,gpusnap.stars)\n",
    "    f.tight_layout()\n",
    "    f.savefig(f'{prefix}_{step:05}.png',dpi=150)\n",
    "    \n",
    "plot_fit_step(gpusnap,0)\n"
   ]
  },
  {
   "cell_type": "code",
   "execution_count": null,
   "metadata": {},
   "outputs": [],
   "source": [
    "import gc\n",
    "gc.collect()"
   ]
  },
  {
   "cell_type": "code",
   "execution_count": null,
   "metadata": {},
   "outputs": [],
   "source": [
    "gpusnap.stars.dt"
   ]
  },
  {
   "cell_type": "code",
   "execution_count": null,
   "metadata": {},
   "outputs": [],
   "source": [
    "device='cuda'\n",
    "gpupotential=potential.to(device)\n",
    "\n",
    "progress = tqdm_notebook(range(20),total=20)\n",
    "\n",
    "snap.dt = torch.full(snap.masses.shape,float('inf'),dtype=snap.positions.dtype)\n",
    "gpusnap=snap.to(device)\n",
    "for step in progress:\n",
    "    plot_fit_step(gpusnap,step,prefix='fixed_dt')\n",
    "    gpusnap.stars.leapfrog_steps(potential=gpupotential, steps=20)\n"
   ]
  },
  {
   "cell_type": "code",
   "execution_count": null,
   "metadata": {},
   "outputs": [],
   "source": [
    "device='cuda'\n",
    "gpupotential=potential.to(device)\n",
    "\n",
    "snap.dt = torch.full(snap.masses.shape,float('inf'),dtype=snap.positions.dtype)\n",
    "gpusnap=snap.to(device)\n",
    "gpusnap.masses=gpusnap.masses.requires_grad_(True)\n",
    "\n",
    "print(f'Using pattern speed {gpusnap.omega[0]:.4f}')\n",
    "\n",
    "learning_rate = 1e-2\n",
    "\n",
    "tvec = torch.linspace(0.,100,101,device=device)\n",
    "plt.ioff()\n",
    "progress = tqdm_notebook(enumerate(tvec),total=len(tvec))\n",
    "lossvec = torch.zeros_like(tvec)\n",
    "\n",
    "potential_step=0\n",
    "\n",
    "for step, time in progress:\n",
    "    verbose=True\n",
    "    loss = target.loss(gpusnap.stars)\n",
    "    loss.backward()\n",
    "    lossvec[step] = loss.detach()\n",
    "\n",
    "    with torch.no_grad():\n",
    "        #if step % 10 == 0:\n",
    "        gpusnap.stars.leapfrog_steps(potential=gpupotential, steps=64)\n",
    "        #gpusnap.integrate(time=time,potential=gpupotential,verbose=verbose)\n",
    "        plot_fit_step(snap,step,prefix='fixed_steps')\n",
    "        plt.close()\n",
    "        \n",
    "        gpusnap.masses -= learning_rate * gpusnap.masses * gpusnap.masses.grad\n",
    "        gpusnap.masses.grad.zero_()\n",
    "        \n",
    "        gpupotential.griddata(gpusnap.positions,weights=gpusnap.masses.detach(),\n",
    "                              method='nearest',fractional_update=0.3)\n",
    "        \n",
    "        fractional_loss_change = (lossvec[potential_step]-loss.detach()).abs()/loss.detach()\n",
    "        progress.write(f'Loss: {loss:.4f}, Fractional loss change: {fractional_loss_change:4f}')\n",
    "        \n",
    "        if step - potential_step > 25 or (step - potential_step > 5 and fractional_loss_change > 0.5):\n",
    "            progress.write('Recomputing Potential')\n",
    "            \n",
    "            old_accelerations = gpupotential.get_accelerations(gpusnap.positions)\n",
    "            old_vc=torch.sum(old_accelerations*gpusnap.positions,dim=-1).sqrt()\n",
    "            \n",
    "            potential.data=gpupotential.data.cpu()\n",
    "            potential.grid_accelerations()\n",
    "            del gpupotential\n",
    "            gpupotential=potential.to(device)\n",
    "            \n",
    "            new_accelerations = gpupotential.get_accelerations(gpusnap.positions)\n",
    "            new_vc=torch.sum(new_accelerations*gpusnap.positions,dim=-1).sqrt()\n",
    "            gd = (old_vc>0)\n",
    "            gpusnap.velocities[gd,:]*=(new_vc/old_vc)[gd,None]\n",
    "            potential_step=step\n",
    "            gpusnap.stars.resample(gpupotential,verbose=verbose)\n",
    "    \n",
    "plt.ion()"
   ]
  },
  {
   "cell_type": "code",
   "execution_count": null,
   "metadata": {},
   "outputs": [],
   "source": [
    "plt.semilogy(lossvec.cpu().numpy())"
   ]
  },
  {
   "cell_type": "code",
   "execution_count": null,
   "metadata": {},
   "outputs": [],
   "source": [
    "%%timeit\n",
    "ix=(nx*snap.stars.x/10).round().type(torch.long)"
   ]
  },
  {
   "cell_type": "code",
   "execution_count": null,
   "metadata": {},
   "outputs": [],
   "source": [
    "%load_ext line_profiler"
   ]
  },
  {
   "cell_type": "code",
   "execution_count": null,
   "metadata": {},
   "outputs": [],
   "source": [
    "%%timeit\n",
    "(32*gpusnap.stars.x/10)"
   ]
  },
  {
   "cell_type": "code",
   "execution_count": null,
   "metadata": {},
   "outputs": [],
   "source": [
    "%prun (32*gpusnap.stars.x/10)"
   ]
  },
  {
   "cell_type": "code",
   "execution_count": null,
   "metadata": {},
   "outputs": [],
   "source": [
    "%lprun -f grid.griddata_sparse grid.griddata_sparse(stars.positions,weights=stars.masses)"
   ]
  },
  {
   "cell_type": "code",
   "execution_count": null,
   "metadata": {},
   "outputs": [],
   "source": []
  }
 ],
 "metadata": {
  "kernelspec": {
   "display_name": "Environment (conda_pytorch_p36)",
   "language": "python",
   "name": "conda_pytorch_p36"
  },
  "language_info": {
   "codemirror_mode": {
    "name": "ipython",
    "version": 3
   },
   "file_extension": ".py",
   "mimetype": "text/x-python",
   "name": "python",
   "nbconvert_exporter": "python",
   "pygments_lexer": "ipython3",
   "version": "3.6.5"
  }
 },
 "nbformat": 4,
 "nbformat_minor": 2
}
