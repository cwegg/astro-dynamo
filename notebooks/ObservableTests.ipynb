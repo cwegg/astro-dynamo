{
 "cells": [
  {
   "cell_type": "code",
   "execution_count": null,
   "metadata": {},
   "outputs": [],
   "source": [
    "%load_ext autoreload\n",
    "%autoreload 2\n",
    "import torch\n",
    "import numpy as np\n",
    "import matplotlib.pyplot as plt\n",
    "print(torch.__version__)\n",
    "\n",
    "from astro_dynamo.grid import Grid, ForceGrid\n",
    "from astro_dynamo.snap import SnapShot, ParticleType\n",
    "import astro_dynamo.target\n",
    "import astro_dynamo.analysesnap\n",
    "import  astro_dynamo.analytic_potentials\n",
    "\n",
    "import math\n",
    "from tqdm.notebook import trange, tqdm\n",
    "import torch.nn.functional as F \n",
    "import mwtools.nemo\n",
    "\n",
    "\n",
    "%aimport -math,torch,numpy,matplotlib.pyplot,sys"
   ]
  },
  {
   "cell_type": "markdown",
   "metadata": {},
   "source": [
    "Load our input N-body model and compute its pattern speed"
   ]
  },
  {
   "cell_type": "code",
   "execution_count": null,
   "metadata": {},
   "outputs": [],
   "source": [
    "fullsnap=SnapShot('../inputmodels/M85_0',omega=1.,particle_type_mapping={0:ParticleType.DarkMatter,1:ParticleType.Star})\n",
    "omega,omegaerr = astro_dynamo.analysesnap.patternspeed(fullsnap.stars)\n",
    "fullsnap.omega = torch.Tensor([omega]).type(torch.float32)\n",
    "print(fullsnap.omega)"
   ]
  },
  {
   "cell_type": "code",
   "execution_count": null,
   "metadata": {},
   "outputs": [],
   "source": [
    "def ein(m,rhor0,m0,alpha):\n",
    "    m = torch.as_tensor(m)\n",
    "    rhor0, m0, alpha = map(lambda var : torch.as_tensor(var,dtype=m.dtype,device=m.device), (rhor0, m0, alpha))\n",
    "    rho0 = rhor0 / (torch.exp(-(2 / alpha) * ((8.2 / m0) ** alpha - 1)))\n",
    "    return rho0 * torch.exp(-(2 / alpha) * ((m / m0) ** alpha - 1))\n",
    "\n",
    "dm_pot = astro_dynamo.analytic_potentials.fit_potential_to_snap(fullsnap.dm,ein,init_parms=[1e-3,8.0,0.7],plot=True)"
   ]
  },
  {
   "cell_type": "code",
   "execution_count": null,
   "metadata": {},
   "outputs": [],
   "source": [
    "dm_pot_gpu = dm_pot.to('cuda')\n",
    "dm_pot_gpu.grid_accelerations()"
   ]
  },
  {
   "cell_type": "markdown",
   "metadata": {},
   "source": [
    "Compute the potential of the N-body model"
   ]
  },
  {
   "cell_type": "code",
   "execution_count": null,
   "metadata": {},
   "outputs": [],
   "source": [
    "try:\n",
    "    del potential\n",
    "except NameError:\n",
    "    pass\n",
    "n=256\n",
    "nz=256\n",
    "snap = fullsnap.stars\n",
    "star_pot=ForceGrid(n=(n,n,nz),\n",
    "                    grid_edges=torch.tensor([10.,10.,4.],dtype=torch.float32),\n",
    "                    smoothing=0.2*20/n)\n",
    "_=star_pot.grid_data(snap.positions,weights=snap.masses,method='cic')\n",
    "star_pot.grid_accelerations()"
   ]
  },
  {
   "cell_type": "markdown",
   "metadata": {},
   "source": [
    "Setup our targets which we wish to optimise"
   ]
  },
  {
   "cell_type": "code",
   "execution_count": null,
   "metadata": {},
   "outputs": [],
   "source": [
    "device='cuda'\n",
    "snap_gpu=snap.to(device)\n",
    "\n",
    "full_radial_profile=astro_dynamo.target.RadialProfile(device='cuda')\n",
    "\n",
    "fiducial_r = 4.\n",
    "fiducial_sig=full_radial_profile.interpolate_surface_density(snap_gpu,fiducial_r)\n",
    "\n",
    "surface_density=lambda x: fiducial_sig*torch.exp(-(x-fiducial_r)/2.4)\n",
    "target = astro_dynamo.target.RadialProfile(r_range=(fiducial_r,9),\n",
    "                                       surface_density=surface_density,device='cuda')\n"
   ]
  },
  {
   "cell_type": "code",
   "execution_count": null,
   "metadata": {},
   "outputs": [],
   "source": [
    "def plot_radialprofile(ax,full_radial_profile,target,snap,vmin=1e-5,vmax=1):\n",
    "    surface_density_full = full_radial_profile.observe(snap).detach().cpu().numpy()\n",
    "    ax.semilogy(full_radial_profile.rmid.cpu().numpy(),surface_density_full,label='Inital')\n",
    "    ax.semilogy(target.rmid.cpu().numpy(),target.target.cpu().numpy(),label='Target')\n",
    "    ax.semilogy(target.rmid.cpu().numpy(),target.observe(snap).detach().cpu().numpy(),\n",
    "            'r',label='Snapshot')\n",
    "    ax.set_ylim(vmin,vmax)\n",
    "    ax.set_xlabel('r')\n",
    "    ax.set_ylabel('$\\Sigma$')\n",
    "    ax.legend()\n",
    "\n",
    "def plot_snap_projections(axs,snap,plotmax=10.,vmin=1e-5,vmax=1e-2,particle_plot_i=None):\n",
    "    x=snap.x.cpu()\n",
    "    y=snap.y.cpu()\n",
    "    z=snap.z.cpu()\n",
    "    m=snap.masses.detach().cpu()\n",
    "    projections = ((x,y),(x,z),(y,z))\n",
    "    projection_labels = (('x','y'),('x','z'),('y','z'))\n",
    "\n",
    "    for ax,projection,projection_label in zip(axs,projections,projection_labels):\n",
    "        ax.hexbin(projection[0],projection[1],C=m,bins='log',\n",
    "                   extent=(-plotmax,plotmax,-plotmax,plotmax),reduce_C_function=np.sum,\n",
    "                     vmin=1e-6,vmax=1e-2,cmap=plt.cm.get_cmap('nipy_spectral'))\n",
    "        ax.set_xlabel(projection_label[0])\n",
    "        ax.set_ylabel(projection_label[1])\n",
    "        if particle_plot_i is not None:\n",
    "            ax.plot(projection[0][particle_plot_i],projection[1][particle_plot_i],'ko',markersize=4)\n",
    "        ax.set_xlim(-plotmax,plotmax)\n",
    "        ax.set_ylim(-plotmax,plotmax)\n",
    "\n",
    "def plot_fit_step(snap,step,prefix='fit_step',particle_plot_i=None):\n",
    "    f,axs = plt.subplots(2,2,figsize=(9,9))\n",
    "    plot_snap_projections((axs[0,0],axs[1,0],axs[0,1]),snap,\n",
    "                          particle_plot_i=particle_plot_i)\n",
    "    plot_radialprofile(axs[1,1],full_radial_profile,target,snap)\n",
    "    f.tight_layout()\n",
    "    f.savefig(f'plots/{prefix}_{step:05}.png',dpi=150)\n",
    "    f.show()\n",
    "    plt.close(f)\n",
    "\n",
    "particle_plot_i=((snap_gpu.rcyl>3) & (snap_gpu.rcyl<5)).nonzero()[0:7]   \n",
    "plot_fit_step(snap_gpu,0,particle_plot_i=particle_plot_i)"
   ]
  },
  {
   "cell_type": "code",
   "execution_count": null,
   "metadata": {},
   "outputs": [],
   "source": [
    "import gc\n",
    "gc.collect()"
   ]
  },
  {
   "cell_type": "code",
   "execution_count": null,
   "metadata": {},
   "outputs": [],
   "source": [
    "device = 'cuda'\n",
    "star_pot_gpu = star_pot.to(device)\n",
    "progress = tqdm(range(100), total=100)\n",
    "\n",
    "snap.dt = torch.full(snap.masses.shape,float('inf'),dtype=snap.positions.dtype)\n",
    "snap_gpu=snap.to(device)\n",
    "particle_plot_i=range(10)\n",
    "\n",
    "for step in progress:\n",
    "    if step % 5 == 0: plot_fit_step(snap_gpu, step,prefix='fiducial', particle_plot_i=particle_plot_i)\n",
    "    snap_gpu.leapfrog_steps(potentials=[star_pot_gpu,dm_pot_gpu], steps=64, stepsperorbit=800)"
   ]
  },
  {
   "cell_type": "code",
   "execution_count": null,
   "metadata": {},
   "outputs": [],
   "source": [
    "with torch.autograd.profiler.profile(use_cuda=True) as prof:\n",
    "    for step in range(5):\n",
    "        gpusnap.leapfrog_steps(potentials=[gpupotential,gpu_pot], steps=64)\n",
    "print(prof)\n",
    "prof.export_chrome_trace('testcase')"
   ]
  },
  {
   "cell_type": "code",
   "execution_count": null,
   "metadata": {},
   "outputs": [],
   "source": [
    "gpusnap=snap.to(device)\n",
    "gpusnap.masses=gpusnap.masses.requires_grad_(True)\n",
    "loss = target.loss(gpusnap)\n",
    "loss.backward()\n",
    "print(gpusnap.masses.grad)"
   ]
  },
  {
   "cell_type": "code",
   "execution_count": null,
   "metadata": {},
   "outputs": [],
   "source": [
    "prof.export_chrome_trace('testcase')"
   ]
  },
  {
   "cell_type": "code",
   "execution_count": null,
   "metadata": {},
   "outputs": [],
   "source": [
    "gpusnap.masses.requires_grad_(True)\n",
    "target.loss(gpusnap),gpusnap.masses"
   ]
  },
  {
   "cell_type": "code",
   "execution_count": null,
   "metadata": {},
   "outputs": [],
   "source": [
    "device='cuda'\n",
    "prefix='fiducial'\n",
    "star_pot_gpu=star_pot.to(device)\n",
    "\n",
    "snap.dt = torch.full(snap.masses.shape,float('inf'),dtype=snap.positions.dtype)\n",
    "snap_gpu=snap.to(device)\n",
    "astro_dynamo.analysesnap.align_bar(snap_gpu)\n",
    "snap_gpu.leapfrog_steps(potentials=[star_pot_gpu,dm_pot_gpu], steps=800*8)\n",
    "\n",
    "snap_gpu.masses.requires_grad_(True)\n",
    "print(f'Using pattern speed {snap_gpu.omega[0]:.4f}')\n",
    "\n",
    "learning_rate = 1e-2\n",
    "\n",
    "tvec = torch.linspace(0.,100,101,device=device)\n",
    "plt.ioff()\n",
    "progress = tqdm(enumerate(tvec),total=len(tvec))\n",
    "lossvec = torch.zeros_like(tvec)\n",
    "\n",
    "potential_step=0\n",
    "potenial_updates=[0]\n",
    "\n",
    "for step, time in progress:\n",
    "    verbose=True\n",
    "    loss = target.loss(snap_gpu)\n",
    "    loss.backward()\n",
    "    lossvec[step] = loss.detach()\n",
    "    with torch.no_grad():\n",
    "        snap_gpu.masses -= learning_rate * snap_gpu.masses * snap_gpu.masses.grad\n",
    "        snap_gpu.masses.grad.zero_()\n",
    "        plot_fit_step(snap_gpu,step,prefix=prefix)\n",
    "        star_pot_gpu.grid_data(snap_gpu.positions,weights=snap_gpu.masses.detach(),\n",
    "                              method='nearest',fractional_update=0.2)\n",
    "        fractional_loss_change = (lossvec[potential_step]-loss.detach()).abs()/loss.detach()\n",
    "        progress.write(f'Loss: {loss:.4f}, Fractional loss change: {fractional_loss_change:4f}')\n",
    "\n",
    "        if step - potential_step > 25 or (step - potential_step > 5 and fractional_loss_change > 0.5):\n",
    "            progress.write('Recomputing Potential')\n",
    "            potenial_updates+=[step]\n",
    "            \n",
    "            #astro_dynamo.analysesnap.align_bar(snap_gpu)\n",
    "            \n",
    "            old_accelerations = star_pot_gpu.get_accelerations(snap_gpu.positions) + \\\n",
    "                dm_pot_gpu.get_accelerations(snap_gpu.positions)\n",
    "            old_vc=torch.sum(-old_accelerations*snap_gpu.positions,dim=-1).sqrt()\n",
    "            \n",
    "            star_pot.data=star_pot_gpu.data.cpu()\n",
    "            star_pot.grid_accelerations()\n",
    "            del star_pot_gpu\n",
    "            star_pot_gpu=star_pot.to(device)\n",
    "            \n",
    "            new_accelerations = star_pot_gpu.get_accelerations(snap_gpu.positions) + \\\n",
    "                dm_pot_gpu.get_accelerations(snap_gpu.positions)\n",
    "            new_vc=torch.sum(-new_accelerations*snap_gpu.positions,dim=-1).sqrt()\n",
    "            \n",
    "            gd = torch.isfinite(old_vc) & torch.isfinite(new_vc)\n",
    "            snap_gpu.velocities[gd,:]*=(new_vc/old_vc)[gd,None]\n",
    "            potential_step=step\n",
    "            snap_gpu.resample([star_pot_gpu,dm_pot_gpu],verbose=verbose)\n",
    "        snap_gpu.leapfrog_steps(potentials=[star_pot_gpu,dm_pot_gpu], steps=256)\n",
    "\n",
    "plt.ion()"
   ]
  },
  {
   "cell_type": "code",
   "execution_count": null,
   "metadata": {},
   "outputs": [],
   "source": [
    "plt.semilogy(lossvec.cpu().numpy())\n",
    "i=np.array(potenial_updates)\n",
    "plt.semilogy(i,lossvec.cpu().numpy()[i],'o',label='Potential Update')\n",
    "plt.legend()\n",
    "plt.ylabel('Loss')\n",
    "plt.xlabel('Epoch')\n",
    "plt.savefig(f'plots/{prefix}loss.png')"
   ]
  }
 ],
 "metadata": {
  "kernelspec": {
   "display_name": "Environment (conda_pytorch_p36)",
   "language": "python",
   "name": "conda_pytorch_p36"
  },
  "language_info": {
   "codemirror_mode": {
    "name": "ipython",
    "version": 3
   },
   "file_extension": ".py",
   "mimetype": "text/x-python",
   "name": "python",
   "nbconvert_exporter": "python",
   "pygments_lexer": "ipython3",
   "version": "3.6.5"
  }
 },
 "nbformat": 4,
 "nbformat_minor": 2
}
